{
  "nbformat": 4,
  "nbformat_minor": 0,
  "metadata": {
    "colab": {
      "provenance": [],
      "authorship_tag": "ABX9TyPoIwl1Tvr6ycf2B8hVZ4hG",
      "include_colab_link": true
    },
    "kernelspec": {
      "name": "python3",
      "display_name": "Python 3"
    },
    "language_info": {
      "name": "python"
    }
  },
  "cells": [
    {
      "cell_type": "markdown",
      "metadata": {
        "id": "view-in-github",
        "colab_type": "text"
      },
      "source": [
        "<a href=\"https://colab.research.google.com/github/malrusdjav/NSU-Python-tasks/blob/master/task9.ipynb\" target=\"_parent\"><img src=\"https://colab.research.google.com/assets/colab-badge.svg\" alt=\"Open In Colab\"/></a>"
      ]
    },
    {
      "cell_type": "code",
      "execution_count": 35,
      "metadata": {
        "colab": {
          "base_uri": "https://localhost:8080/"
        },
        "id": "Cu2_eYGFHYGn",
        "outputId": "3556f43d-6bbc-4d2b-e916-9636c36dcdc0"
      },
      "outputs": [
        {
          "output_type": "stream",
          "name": "stdout",
          "text": [
            "Enter the number of items: 4\n",
            "Enter a new number: 6\n",
            "Enter a new number: 3\n",
            "Enter a new number: 7\n",
            "Enter a new number: 0\n",
            "Before ['6', '3', '7', '0']\n",
            "After ['0', '3', '6', '7']\n",
            "Reversed ['7', '6', '3', '0']\n"
          ]
        }
      ],
      "source": [
        "n = int(input(\"Enter the number of items: \"))\n",
        "lst=list(range(n))\n",
        "\n",
        "for i in range(n):\n",
        "  lst[i] = input(\"Enter a new number: \")\n",
        "\n",
        "print(\"Before\", lst)\n",
        "lst.sort()\n",
        "print(\"After\", lst)\n",
        "lst.reverse()\n",
        "print(\"Reversed\", lst)"
      ]
    }
  ]
}