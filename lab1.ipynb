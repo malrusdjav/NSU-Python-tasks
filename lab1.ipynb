{
  "nbformat": 4,
  "nbformat_minor": 0,
  "metadata": {
    "colab": {
      "provenance": [],
      "authorship_tag": "ABX9TyPRtD6KOIXyeu5UBvQUsyLV",
      "include_colab_link": true
    },
    "kernelspec": {
      "name": "python3",
      "display_name": "Python 3"
    },
    "language_info": {
      "name": "python"
    }
  },
  "cells": [
    {
      "cell_type": "markdown",
      "metadata": {
        "id": "view-in-github",
        "colab_type": "text"
      },
      "source": [
        "<a href=\"https://colab.research.google.com/github/malrusdjav/NSU-Python-tasks/blob/master/lab1.ipynb\" target=\"_parent\"><img src=\"https://colab.research.google.com/assets/colab-badge.svg\" alt=\"Open In Colab\"/></a>"
      ]
    },
    {
      "cell_type": "code",
      "source": [
        "import random\n",
        "class Pupa:\n",
        "    def __init__(self, origin_cap):\n",
        "        self._name = \"Pupa's\"\n",
        "        print(\"\\nI'm Pupa, my initial cash balance is \", origin_cap)\n",
        "        self._cap = origin_cap\n",
        "    def take_salary(self, slr):\n",
        "        self._cap = self._cap + slr\n",
        "\n",
        "    def do_work(self, l1, l2, n):\n",
        "        data = list(range(n))\n",
        "        for i in range(n):\n",
        "            data[i] = l1[i] + l2[i]\n",
        "        print(\"Pupa added up the numbers\", data)\n",
        "\n",
        "    def curr_cash(self):\n",
        "        print(\"Pupa's current cash balance is \", self._cap)\n",
        "\n",
        "class Lupa:\n",
        "    def __init__(self, origin_cap):\n",
        "        self._name = \"Lupa's\"\n",
        "        print(\"\\nI'm Lupa, my initial cash balance is \", origin_cap)\n",
        "        self._cap = origin_cap\n",
        "\n",
        "    def take_salary(self, slr):\n",
        "        self._cap = self._cap + slr\n",
        "\n",
        "    def do_work(self, l1, l2, n):\n",
        "        data = list(range(n))\n",
        "        for i in range(n):\n",
        "            data[i] = l1[i] - l2[i]\n",
        "        print(\"Lupa subtracted the numbers\", data)\n",
        "\n",
        "    def curr_cash(self):\n",
        "        print(\"Lupa's current cash balance is \", self._cap)\n",
        "\n",
        "class Accountant:\n",
        "    def give_salary(self, worker):\n",
        "\n",
        "        if worker._name == \"Pupa's\": # Let's imagine that he's a more experienced datascientist\n",
        "            worker.take_salary(100)\n",
        "        else:\n",
        "            worker.take_salary(85)\n",
        "\n",
        "        print(\"The accountant paid\", worker._name, \"salary\")\n",
        "\n",
        "n=int(input(\"Enter the number of items in both lists: \"))\n",
        "\n",
        "lst1 = list(range(n))\n",
        "lst2 = list(range(n))\n",
        "\n",
        "for i in range(n): #random numbers\n",
        "    lst1[i] = random.randint(-2, 4)\n",
        "    lst2[i] = random.randint(-3, 5)\n",
        "\n",
        "p = Pupa(500)\n",
        "l = Lupa(315)\n",
        "\n",
        "print(\"\\n\")\n",
        "\n",
        "print(\"Here are the initial lists: \")\n",
        "print(lst1)\n",
        "print(lst2)\n",
        "print(\"\\nPerformance results: \")\n",
        "p.do_work(lst1, lst2, n)\n",
        "l.do_work(lst1, lst2, n)\n",
        "\n",
        "a = Accountant()\n",
        "a.give_salary(p)\n",
        "a.give_salary(l)\n",
        "\n",
        "p.curr_cash()\n",
        "l.curr_cash()"
      ],
      "metadata": {
        "colab": {
          "base_uri": "https://localhost:8080/"
        },
        "id": "_L6LYJooNj9I",
        "outputId": "f66e7bea-da52-43b0-ce99-3c61c0bca1c6"
      },
      "execution_count": 3,
      "outputs": [
        {
          "output_type": "stream",
          "name": "stdout",
          "text": [
            "Enter the number of items in both lists: 4\n",
            "\n",
            "I'm Pupa, my initial cash balance is  500\n",
            "\n",
            "I'm Lupa, my initial cash balance is  315\n",
            "\n",
            "\n",
            "Here are the initial lists: \n",
            "[-2, -2, 4, -2]\n",
            "[-2, -1, -2, 2]\n",
            "\n",
            "Performance results: \n",
            "Pupa added up the numbers [-4, -3, 2, 0]\n",
            "Lupa subtracted the numbers [0, -1, 6, -4]\n",
            "The accountant paid Pupa's salary\n",
            "The accountant paid Lupa's salary\n",
            "Pupa's current cash balance is  600\n",
            "Lupa's current cash balance is  400\n"
          ]
        }
      ]
    },
    {
      "cell_type": "code",
      "source": [],
      "metadata": {
        "id": "p3pUfArzN7ay"
      },
      "execution_count": null,
      "outputs": []
    },
    {
      "cell_type": "code",
      "source": [],
      "metadata": {
        "id": "ECTT2K0DN73o"
      },
      "execution_count": null,
      "outputs": []
    }
  ]
}